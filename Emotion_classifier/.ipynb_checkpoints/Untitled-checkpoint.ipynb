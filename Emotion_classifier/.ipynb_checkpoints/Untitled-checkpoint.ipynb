{
 "cells": [
  {
   "cell_type": "code",
   "execution_count": 3,
   "id": "49dd74a5-fd10-4a33-b5eb-e63fa4055164",
   "metadata": {},
   "outputs": [
    {
     "name": "stdout",
     "output_type": "stream",
     "text": [
      "Requirement already satisfied: nltk in c:\\users\\om hemant sonawane\\appdata\\local\\programs\\python\\python39\\lib\\site-packages (3.8.1)\n",
      "Requirement already satisfied: click in c:\\users\\om hemant sonawane\\appdata\\local\\programs\\python\\python39\\lib\\site-packages (from nltk) (8.1.7)\n",
      "Requirement already satisfied: joblib in c:\\users\\om hemant sonawane\\appdata\\local\\programs\\python\\python39\\lib\\site-packages (from nltk) (1.3.2)\n",
      "Requirement already satisfied: regex>=2021.8.3 in c:\\users\\om hemant sonawane\\appdata\\local\\programs\\python\\python39\\lib\\site-packages (from nltk) (2023.10.3)\n",
      "Requirement already satisfied: tqdm in c:\\users\\om hemant sonawane\\appdata\\local\\programs\\python\\python39\\lib\\site-packages (from nltk) (4.66.1)\n",
      "Requirement already satisfied: colorama in c:\\users\\om hemant sonawane\\appdata\\local\\programs\\python\\python39\\lib\\site-packages (from click->nltk) (0.4.6)\n"
     ]
    }
   ],
   "source": [
    "!pip install nltk\n",
    "import nltk\n",
    "# nltk.download()"
   ]
  },
  {
   "cell_type": "code",
   "execution_count": 6,
   "id": "db22c57a-2766-4f80-808b-69945bdf0909",
   "metadata": {},
   "outputs": [],
   "source": [
    "import pandas as pd\n",
    "import numpy as np\n",
    "import matplotlib.pyplot as plt\n",
    "import os"
   ]
  },
  {
   "cell_type": "code",
   "execution_count": 38,
   "id": "b2e64212-cd3e-426e-ba57-362be8d40d79",
   "metadata": {},
   "outputs": [],
   "source": [
    "train_path = r'C:\\\\Users\\Om Hemant Sonawane\\Documents\\Data\\files\\MyData\\NLP\\projects\\lang_classifier\\data\\train.txt'\n",
    "\n",
    "data = open(train_path, 'r+')\n",
    "\n",
    "texts = []\n",
    "emotions = []"
   ]
  },
  {
   "cell_type": "code",
   "execution_count": 39,
   "id": "5066a710-b2f1-4e1b-9f07-8506a7650e62",
   "metadata": {},
   "outputs": [],
   "source": [
    "for i in data:\n",
    "    text, emotion = i.split(';')\n",
    "    texts.append(text)\n",
    "    emotions.append(emotion[:-1])"
   ]
  },
  {
   "cell_type": "code",
   "execution_count": null,
   "id": "754b3429-12df-4891-89f4-f65b17203603",
   "metadata": {},
   "outputs": [],
   "source": []
  }
 ],
 "metadata": {
  "kernelspec": {
   "display_name": "Python 3 (ipykernel)",
   "language": "python",
   "name": "python3"
  },
  "language_info": {
   "codemirror_mode": {
    "name": "ipython",
    "version": 3
   },
   "file_extension": ".py",
   "mimetype": "text/x-python",
   "name": "python",
   "nbconvert_exporter": "python",
   "pygments_lexer": "ipython3",
   "version": "3.9.13"
  }
 },
 "nbformat": 4,
 "nbformat_minor": 5
}
